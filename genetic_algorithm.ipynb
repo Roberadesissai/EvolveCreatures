{
 "cells": [
  {
   "cell_type": "code",
   "execution_count": 3,
   "metadata": {},
   "outputs": [],
   "source": [
    "import random\n",
    "import numpy as np\n",
    "import tensorflow as tf\n",
    "from tensorflow import keras\n",
    "import matplotlib.pyplot as plt"
   ]
  },
  {
   "cell_type": "markdown",
   "metadata": {},
   "source": [
    "Step1: Define the creature class and the brain class"
   ]
  },
  {
   "cell_type": "code",
   "execution_count": 4,
   "metadata": {},
   "outputs": [],
   "source": [
    "class NeuralNetwork:\n",
    "    def __init__(self):\n",
    "        self.model = keras.models.Sequential([\n",
    "            # Assume 4 inputs, 4 outputs actions: up, down, left, right\n",
    "            keras.layers.Dense(units=16, activation='relu', input_shape=(4,)), \n",
    "            keras.layers.Dense(units=4, activation='softmax')\n",
    "        ])\n",
    "        self.model.compile(optimizer='adam', loss='sparse_categorical_crossentropy')\n",
    "\n",
    "    def predict_move(self, state):\n",
    "        action_probs = self.model.predict(state[0])\n",
    "        # Choose the action with the highest probability\n",
    "        return np.argmax(action_probs[0])"
   ]
  },
  {
   "cell_type": "code",
   "execution_count": 5,
   "metadata": {},
   "outputs": [],
   "source": [
    "class Creature:\n",
    "    def __init__(self, size, color, speed, health, attack, energy):\n",
    "        self.size = size\n",
    "        self.alive = True\n",
    "        self.color = color\n",
    "        self.speed = speed\n",
    "        self.health = health\n",
    "        self.attack = attack\n",
    "        self.energy = energy\n",
    "        self.brain = NeuralNetwork()\n",
    "        self.x = random.randint(0, 100)\n",
    "        self.y = random.randint(0, 100)\n",
    "\n",
    "    def move(self):\n",
    "        state = [self.size, self.speed, self.energy]"
   ]
  }
 ],
 "metadata": {
  "kernelspec": {
   "display_name": "Python 3",
   "language": "python",
   "name": "python3"
  },
  "language_info": {
   "codemirror_mode": {
    "name": "ipython",
    "version": 3
   },
   "file_extension": ".py",
   "mimetype": "text/x-python",
   "name": "python",
   "nbconvert_exporter": "python",
   "pygments_lexer": "ipython3",
   "version": "3.11.6"
  }
 },
 "nbformat": 4,
 "nbformat_minor": 2
}
